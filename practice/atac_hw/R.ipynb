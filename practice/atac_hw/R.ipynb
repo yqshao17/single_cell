{
 "cells": [
  {
   "cell_type": "code",
   "execution_count": 1,
   "metadata": {
    "Collapsed": "false"
   },
   "outputs": [],
   "source": [
    "suppressPackageStartupMessages({\n",
    "    library(chromVAR)\n",
    "    library(motifmatchr)\n",
    "    library(SummarizedExperiment)\n",
    "    library(Matrix)\n",
    "    library('cicero')\n",
    "})"
   ]
  },
  {
   "cell_type": "code",
   "execution_count": 2,
   "metadata": {
    "Collapsed": "false"
   },
   "outputs": [],
   "source": [
    "library(BiocParallel)\n",
    "register(MulticoreParam(20))"
   ]
  },
  {
   "cell_type": "markdown",
   "metadata": {
    "Collapsed": "true"
   },
   "source": [
    "# chromVAR"
   ]
  },
  {
   "cell_type": "code",
   "execution_count": null,
   "metadata": {
    "Collapsed": "false"
   },
   "outputs": [],
   "source": [
    "## Rscript\n",
    "# Rscript chromVAR.R -d data/Hematopoiesis-All/data_filtered -p data/Hematopoiesis-All/Hematopoiesis-All_filtered_peak.bed -g hg19 -n hema_all_f -o result/Hematopoiesis-All/chromVAR_f"
   ]
  },
  {
   "cell_type": "code",
   "execution_count": 5,
   "metadata": {
    "Collapsed": "false"
   },
   "outputs": [
    {
     "name": "stderr",
     "output_type": "stream",
     "text": [
      "Loading required package: BSgenome\n",
      "Loading required package: Biostrings\n",
      "Loading required package: XVector\n",
      "\n",
      "Attaching package: 'Biostrings'\n",
      "\n",
      "The following object is masked from 'package:DelayedArray':\n",
      "\n",
      "    type\n",
      "\n",
      "The following object is masked from 'package:base':\n",
      "\n",
      "    strsplit\n",
      "\n",
      "Loading required package: rtracklayer\n"
     ]
    }
   ],
   "source": [
    "library(BSgenome.Hsapiens.UCSC.hg19)\n",
    "genome = BSgenome.Hsapiens.UCSC.hg19\n",
    "species = 'Homo sapiens'"
   ]
  },
  {
   "cell_type": "code",
   "execution_count": 7,
   "metadata": {
    "Collapsed": "false"
   },
   "outputs": [],
   "source": [
    "motifs <- getJasparMotifs(species=species)"
   ]
  },
  {
   "cell_type": "code",
   "execution_count": 6,
   "metadata": {
    "Collapsed": "false"
   },
   "outputs": [],
   "source": [
    "#data_file = 'data//Hematopoiesis-All/data'\n",
    "#peak_file = 'data//Hematopoiesis-All/Hematopoiesis-All_peak.bed'\n",
    "data_file = 'data//Hematopoiesis-All/data_filtered'\n",
    "peak_file = 'data//Hematopoiesis-All/Hematopoiesis-All_filtered_peak.bed'\n",
    "\n",
    "dir.create(outdir, recursive=TRUE, showWarnings=FALSE)\n",
    "\n",
    "#counts = read.table(data_file, row.names=1, header=T)\n",
    "counts = read_count(data_file)\n",
    "peaks = getPeaks(peak_file, sort_peaks=T) \n",
    "\n",
    "peak_index = as.data.frame(peaks)\n",
    "peak_index = paste0(peak_index$seqnames, ':' ,peak_index$start-1, '-', peak_index$end)\n",
    "\n",
    "index = row.names(counts)%in%peak_index\n",
    "counts = counts[index,]"
   ]
  },
  {
   "cell_type": "code",
   "execution_count": null,
   "metadata": {
    "Collapsed": "false"
   },
   "outputs": [],
   "source": [
    "dev = apply_chromVAR(counts, peaks, motifs, genome)"
   ]
  },
  {
   "cell_type": "code",
   "execution_count": 10,
   "metadata": {
    "Collapsed": "false"
   },
   "outputs": [],
   "source": [
    "outdir = 'result/Hematopoiesis-All/chromVAR_f'\n",
    "name = 'hema_all_f'\n",
    "write.table(deviationScores(dev), paste0(outdir, '/', name, '_dev.txt'), quote=F, sep='\\t')\n",
    "var = computeVariability(dev)\n",
    "write.table(var, paste0(outdir, '/',name, '_var.txt'), quote=F, sep='\\t')"
   ]
  },
  {
   "cell_type": "code",
   "execution_count": 12,
   "metadata": {
    "Collapsed": "false"
   },
   "outputs": [],
   "source": [
    "saveRDS(dev, \"result/Hematopoiesis-All/chromVAR_f/dev.rds\")"
   ]
  },
  {
   "cell_type": "code",
   "execution_count": null,
   "metadata": {
    "Collapsed": "false"
   },
   "outputs": [],
   "source": []
  },
  {
   "cell_type": "markdown",
   "metadata": {
    "Collapsed": "true"
   },
   "source": [
    "# Cicero"
   ]
  },
  {
   "cell_type": "code",
   "execution_count": null,
   "metadata": {
    "Collapsed": "false"
   },
   "outputs": [],
   "source": []
  },
  {
   "cell_type": "code",
   "execution_count": 3,
   "metadata": {
    "Collapsed": "false"
   },
   "outputs": [],
   "source": [
    "suppressPackageStartupMessages({\n",
    "    library(BSgenome.Hsapiens.UCSC.hg19)\n",
    "    library(TxDb.Hsapiens.UCSC.hg19.knownGene)\n",
    "    library(org.Hs.eg.db)\n",
    "    library(cicero)\n",
    "    library(magrittr)\n",
    "    })\n",
    "\n",
    "txdb <- TxDb.Hsapiens.UCSC.hg19.knownGene\n",
    "orgdb <- org.Hs.eg.db\n",
    "bsgenome <- BSgenome.Hsapiens.UCSC.hg19"
   ]
  },
  {
   "cell_type": "code",
   "execution_count": 17,
   "metadata": {
    "Collapsed": "false"
   },
   "outputs": [],
   "source": [
    "# read in matrix data using the Matrix package\n",
    "indata <- Matrix::readMM(\"data/Hematopoiesis-All/data/count.mtx\") \n",
    "# binarize the matrix\n",
    "indata@x[indata@x > 0] <- 1\n",
    "\n",
    "# format cell info\n",
    "cellinfo <- read.table(\"data/Hematopoiesis-All/data/barcodes.txt\",comment.char = \"\")\n",
    "row.names(cellinfo) <- cellinfo$V1\n",
    "names(cellinfo) <- \"cells\"\n",
    "\n",
    "# format peak info\n",
    "peakinfo <- read.table(\"data/Hematopoiesis-All/Hematopoiesis-All_peak.bed\")\n",
    "names(peakinfo) <- c(\"chr\", \"bp1\", \"bp2\")\n",
    "peakinfo$site_name <- paste(peakinfo$chr, peakinfo$bp1, peakinfo$bp2, sep=\"_\")\n",
    "row.names(peakinfo) <- peakinfo$site_name\n",
    "\n",
    "row.names(indata) <- row.names(peakinfo)\n",
    "colnames(indata) <- row.names(cellinfo)\n",
    "\n",
    "# make CDS\n",
    "fd <- methods::new(\"AnnotatedDataFrame\", data = peakinfo)\n",
    "pd <- methods::new(\"AnnotatedDataFrame\", data = cellinfo)\n",
    "input_cds <-  suppressWarnings(newCellDataSet(indata,\n",
    "                            phenoData = pd,\n",
    "                            featureData = fd,\n",
    "                            expressionFamily=VGAM::binomialff(),\n",
    "                            lowerDetectionLimit=0))\n",
    "input_cds@expressionFamily@vfamily <- \"binomialff\"\n",
    "input_cds <- monocle::detectGenes(input_cds)\n",
    "\n",
    "#Ensure there are no peaks included with zero reads\n",
    "input_cds <- input_cds[Matrix::rowSums(exprs(input_cds)) != 0,] \n"
   ]
  },
  {
   "cell_type": "code",
   "execution_count": null,
   "metadata": {
    "Collapsed": "false"
   },
   "outputs": [],
   "source": [
    "cells = read.table('data/Hematopoiesis-All/GSE129785_scATAC-Hematopoiesis-All.cell_barcodes.txt', \n",
    "                   comment.char = \"\", head=1)\n",
    "dimred <- data.frame(row.names = cells$Group_Barcode, \n",
    "                     cells$UMAP1, \n",
    "                     cells$UMAP2)"
   ]
  },
  {
   "cell_type": "code",
   "execution_count": null,
   "metadata": {
    "Collapsed": "false"
   },
   "outputs": [],
   "source": [
    "set.seed(2017)\n",
    "input_cds <- detectGenes(input_cds)\n",
    "input_cds <- estimateSizeFactors(input_cds)"
   ]
  },
  {
   "cell_type": "code",
   "execution_count": 19,
   "metadata": {
    "Collapsed": "false"
   },
   "outputs": [],
   "source": [
    "saveRDS(input_cds, \"result/Hematopoiesis-All/hema_all_input.rds\")"
   ]
  },
  {
   "cell_type": "code",
   "execution_count": 2,
   "metadata": {
    "Collapsed": "false"
   },
   "outputs": [],
   "source": [
    "input_cds <- readRDS(\"result/Hematopoiesis-All/hema_all_input.rds\")"
   ]
  },
  {
   "cell_type": "code",
   "execution_count": null,
   "metadata": {
    "Collapsed": "false"
   },
   "outputs": [],
   "source": [
    "cicero_cds  <- make_cicero_cds(input_cds, k = 50, reduced_coordinates = dimred[colnames(input_cds),])"
   ]
  },
  {
   "cell_type": "code",
   "execution_count": 5,
   "metadata": {
    "Collapsed": "false"
   },
   "outputs": [
    {
     "data": {
      "text/plain": [
       "129578392 bytes"
      ]
     },
     "metadata": {},
     "output_type": "display_data"
    }
   ],
   "source": [
    "object.size(input_cds)"
   ]
  },
  {
   "cell_type": "code",
   "execution_count": 18,
   "metadata": {
    "Collapsed": "false"
   },
   "outputs": [
    {
     "data": {
      "text/plain": [
       "129578392 bytes"
      ]
     },
     "metadata": {},
     "output_type": "display_data"
    }
   ],
   "source": [
    "object.size(input_cds)"
   ]
  },
  {
   "cell_type": "code",
   "execution_count": 33,
   "metadata": {
    "Collapsed": "false"
   },
   "outputs": [
    {
     "name": "stderr",
     "output_type": "stream",
     "text": [
      "Overlap QC metrics:\n",
      "Cells per bin: 50\n",
      "Maximum shared cells bin-bin: 44\n",
      "Mean shared cells bin-bin: 0.0384606816936211\n",
      "Median shared cells bin-bin: 0\n"
     ]
    },
    {
     "ename": "ERROR",
     "evalue": "Error in asMethod(object): Cholmod error 'problem too large' at file ../Core/cholmod_dense.c, line 105\n",
     "output_type": "error",
     "traceback": [
      "Error in asMethod(object): Cholmod error 'problem too large' at file ../Core/cholmod_dense.c, line 105\nTraceback:\n",
      "1. make_cicero_cds(input_cds, k = 50, reduced_coordinates = dimred[colnames(input_cds), \n .     ])",
      "2. as.matrix(new_exprs)",
      "3. as.matrix.Matrix(new_exprs)",
      "4. as(x, \"matrix\")",
      "5. asMethod(object)"
     ]
    }
   ],
   "source": [
    "cicero_cds  <- make_cicero_cds(input_cds, k = 50, reduced_coordinates = dimred[colnames(input_cds),])"
   ]
  },
  {
   "cell_type": "code",
   "execution_count": 6,
   "metadata": {
    "Collapsed": "false"
   },
   "outputs": [],
   "source": [
    "input_cds_f=input_cds[Matrix::rowSums(exprs(input_cds)) >= 1000"
   ]
  },
  {
   "cell_type": "code",
   "execution_count": 7,
   "metadata": {
    "Collapsed": "false"
   },
   "outputs": [
    {
     "data": {
      "text/plain": [
       "38079080 bytes"
      ]
     },
     "metadata": {},
     "output_type": "display_data"
    }
   ],
   "source": [
    "object.size(input_cds_f)"
   ]
  },
  {
   "cell_type": "code",
   "execution_count": 8,
   "metadata": {
    "Collapsed": "false"
   },
   "outputs": [],
   "source": [
    "saveRDS(input_cds_f, \"result/Hematopoiesis-All/hema_all_input_f.rds\")"
   ]
  },
  {
   "cell_type": "code",
   "execution_count": 43,
   "metadata": {
    "Collapsed": "false"
   },
   "outputs": [],
   "source": [
    "set.seed(2017)\n",
    "input_cds_f <- detectGenes(input_cds_f)\n",
    "input_cds_f <- estimateSizeFactors(input_cds_f)"
   ]
  },
  {
   "cell_type": "code",
   "execution_count": 44,
   "metadata": {
    "Collapsed": "false"
   },
   "outputs": [
    {
     "name": "stderr",
     "output_type": "stream",
     "text": [
      "Overlap QC metrics:\n",
      "Cells per bin: 50\n",
      "Maximum shared cells bin-bin: 44\n",
      "Mean shared cells bin-bin: 0.0384606816936211\n",
      "Median shared cells bin-bin: 0\n"
     ]
    }
   ],
   "source": [
    "cicero_cds_f  <- make_cicero_cds(input_cds_f, k = 50, reduced_coordinates = dimred[colnames(input_cds_f),])"
   ]
  },
  {
   "cell_type": "code",
   "execution_count": 45,
   "metadata": {
    "Collapsed": "false"
   },
   "outputs": [],
   "source": [
    "saveRDS(cicero_cds_f, \"result/Hematopoiesis-All/hema_all_cicero_f.rds\")"
   ]
  },
  {
   "cell_type": "code",
   "execution_count": 3,
   "metadata": {
    "Collapsed": "false"
   },
   "outputs": [],
   "source": [
    "cicero_cds_f <- readRDS(\"result/Hematopoiesis-All/hema_all_cicero_f.rds\")"
   ]
  },
  {
   "cell_type": "code",
   "execution_count": 54,
   "metadata": {
    "Collapsed": "false"
   },
   "outputs": [],
   "source": [
    "# choose genome region\n",
    "bsgenome <- BSgenome.Hsapiens.UCSC.hg19\n",
    "chromSizes <- seqlengths(bsgenome)[paste0(\"chr\",c(1:22,\"X\"))]\n",
    "genome <- data.frame(names(chromSizes),chromSizes)\n",
    "rownames(genome) <- NULL"
   ]
  },
  {
   "cell_type": "code",
   "execution_count": null,
   "metadata": {
    "Collapsed": "false"
   },
   "outputs": [],
   "source": [
    "data(\"human.hg19.genome\")\n",
    "sample_genome <- subset(human.hg19.genome, V1 == \"chr1\")\n",
    "conns <- run_cicero(cicero_cds_f, sample_genome) # Takes a few minutes to run"
   ]
  },
  {
   "cell_type": "code",
   "execution_count": 11,
   "metadata": {
    "Collapsed": "false"
   },
   "outputs": [],
   "source": [
    "write.table(conns, 'result//Hematopoiesis-All/hema_all_f_conns.txt',quote = FALSE, sep='\\t', row.names = FALSE)"
   ]
  },
  {
   "cell_type": "code",
   "execution_count": 4,
   "metadata": {
    "Collapsed": "false"
   },
   "outputs": [],
   "source": [
    "conns = read.table( 'result//Hematopoiesis-All/hema_all_f_conns.txt', sep='\\t', header = 1)\n",
    "input_cds_f = readRDS('result//Hematopoiesis-All/hema_all_input_f.rds')"
   ]
  },
  {
   "cell_type": "code",
   "execution_count": 8,
   "metadata": {
    "Collapsed": "false"
   },
   "outputs": [
    {
     "name": "stderr",
     "output_type": "stream",
     "text": [
      "Annotating Cell Data Set...\n"
     ]
    }
   ],
   "source": [
    "tssWindow <- 2500\n",
    "flank <- 250*10^3\n",
    "corCutOff <- 0.35\n",
    "\n",
    "#Annotate CDS\n",
    "message(\"Annotating Cell Data Set...\")\n",
    "genes <- getTxDbGenes(txdb=txdb,orgdb=orgdb)\n",
    "names(genes) <- genes$symbol\n",
    "genes <- resize(genes, 1, \"start\") %>% resize(tssWindow * 2 + 1, \"center\")\n",
    "geneDF <- data.frame(chromosome=seqnames(genes),start=start(genes),end=end(genes), gene=genes$symbol)\n",
    "obj <- annotate_cds_by_site(input_cds_f, geneDF)\n",
    "\n",
    "#Prepare for Co-Accessibility\n",
    "nSites <- Matrix::colSums(assayData(obj)$exprs)\n",
    "names(nSites) <- row.names(pData(obj))\n"
   ]
  },
  {
   "cell_type": "code",
   "execution_count": 9,
   "metadata": {
    "Collapsed": "false"
   },
   "outputs": [
    {
     "name": "stderr",
     "output_type": "stream",
     "text": [
      "Calculating normalized gene activities...\n"
     ]
    }
   ],
   "source": [
    "#Cicero with Correlations\n",
    "message(\"Calculating normalized gene activities...\")\n",
    "ciceroGA <- normalize_gene_activities(build_gene_activity_matrix(obj, conns, coaccess_cutoff = corCutOff), nSites)"
   ]
  },
  {
   "cell_type": "code",
   "execution_count": null,
   "metadata": {
    "Collapsed": "false"
   },
   "outputs": [],
   "source": [
    "library('Matrix')"
   ]
  },
  {
   "cell_type": "code",
   "execution_count": null,
   "metadata": {
    "Collapsed": "false"
   },
   "outputs": [],
   "source": [
    "writeMM(ciceroGA,file='result//Hematopoiesis-All/hema_all_f_ciceroGA.txt')\n",
    "write.table(rownames(ciceroGA),'result//Hematopoiesis-All/hema_all_f_ciceroGA_genes.txt',\n",
    "           quote = FALSE)\n",
    "write.table(colnames(ciceroGA),'result//Hematopoiesis-All/hema_all_f_ciceroGA_barcodes.txt',\n",
    "           quote = FALSE)"
   ]
  },
  {
   "cell_type": "code",
   "execution_count": 11,
   "metadata": {
    "Collapsed": "false"
   },
   "outputs": [
    {
     "data": {
      "text/html": [
       "<ol class=list-inline>\n",
       "\t<li>13541</li>\n",
       "\t<li>63882</li>\n",
       "</ol>\n"
      ],
      "text/latex": [
       "\\begin{enumerate*}\n",
       "\\item 13541\n",
       "\\item 63882\n",
       "\\end{enumerate*}\n"
      ],
      "text/markdown": [
       "1. 13541\n",
       "2. 63882\n",
       "\n",
       "\n"
      ],
      "text/plain": [
       "[1] 13541 63882"
      ]
     },
     "metadata": {},
     "output_type": "display_data"
    }
   ],
   "source": [
    "dim(ciceroGA)"
   ]
  },
  {
   "cell_type": "code",
   "execution_count": null,
   "metadata": {
    "Collapsed": "false"
   },
   "outputs": [],
   "source": [
    "head(ciceroGA)"
   ]
  },
  {
   "cell_type": "code",
   "execution_count": 20,
   "metadata": {
    "Collapsed": "false"
   },
   "outputs": [
    {
     "name": "stderr",
     "output_type": "stream",
     "text": [
      "Loading required package: DelayedArray\n",
      "Loading required package: matrixStats\n",
      "\n",
      "Attaching package: 'matrixStats'\n",
      "\n",
      "The following objects are masked from 'package:Biobase':\n",
      "\n",
      "    anyMissing, rowMedians\n",
      "\n",
      "Loading required package: BiocParallel\n",
      "\n",
      "Attaching package: 'DelayedArray'\n",
      "\n",
      "The following objects are masked from 'package:matrixStats':\n",
      "\n",
      "    colMaxs, colMins, colRanges, rowMaxs, rowMins, rowRanges\n",
      "\n",
      "The following object is masked from 'package:Biostrings':\n",
      "\n",
      "    type\n",
      "\n",
      "The following objects are masked from 'package:base':\n",
      "\n",
      "    aperm, apply\n",
      "\n"
     ]
    },
    {
     "ename": "ERROR",
     "evalue": "Error in is(colData, \"DataFrame\"): object 'mdata' not found\n",
     "output_type": "error",
     "traceback": [
      "Error in is(colData, \"DataFrame\"): object 'mdata' not found\nTraceback:\n",
      "1. SummarizedExperiment(assays = SimpleList(gA = ciceroGA), rowRanges = genes[rownames(ciceroGA), \n .     ], colData = mdata)",
      "2. SummarizedExperiment(assays = SimpleList(gA = ciceroGA), rowRanges = genes[rownames(ciceroGA), \n .     ], colData = mdata)",
      "3. .local(assays, ...)",
      "4. is(colData, \"DataFrame\")"
     ]
    }
   ],
   "source": [
    "library(SummarizedExperiment)\n",
    "seCicero <- SummarizedExperiment(\n",
    "\tassays = SimpleList(gA = ciceroGA),\n",
    "\trowRanges = genes[rownames(ciceroGA),],\n",
    "\tcolData = mdata\n",
    ")\n",
    "\n",
    "seCiceroLog <- SummarizedExperiment(\n",
    "\tassays = SimpleList(logGA = log2(10^6 * ciceroGA + 1)),\n",
    "\trowRanges = genes[rownames(ciceroGA),],\n",
    "\tcolData = mdata\n",
    ")\n",
    "\n",
    "#Save Output\n",
    "#saveRDS(connections, \"results/Peaks-Co-Accessibility.rds\")\n",
    "#saveRDS(seCicero, \"results/Cicero-Gene-Activity.rds\")\n",
    "#saveRDS(seCiceroLog, \"results/Cicero-Log2-Gene-Activity.rds\")"
   ]
  },
  {
   "cell_type": "markdown",
   "metadata": {
    "Collapsed": "true"
   },
   "source": [
    "# trajectory"
   ]
  },
  {
   "cell_type": "code",
   "execution_count": null,
   "metadata": {
    "Collapsed": "false"
   },
   "outputs": [],
   "source": [
    "#----------------------------\n",
    "# Get Inputs\n",
    "#----------------------------\n",
    "se <- readRDS(\"data/Hematopoiesis-All/scATAC_Heme_All_SummarizedExperiment.final.rds\")\n",
    "trajectory <- paste0(\"Cluster\",c(1,4,5,6,7,14,15,16))\n",
    "\n",
    "#Align single cells to Trajectory\n",
    "df <- data.frame(row.names = colnames(se), x = colData(se)$UMAP1, y = colData(se)$UMAP2, Group = colData(se)$Clusters)\n",
    "trajAligned <- alignTrajectory(df, trajectory)\n",
    "\n",
    "df2 <- trajAligned[[1]]\n",
    "dfT <- trajAligned[[2]]\n",
    "\n",
    "pdf(\"result/Hematopoiesis-All/trajectory/UMAP-PseudoTime.pdf\")\n",
    "library(ggplot2)\n",
    "ggplot(df2, aes(x,y,color=pseudotime)) + geom_point() +\n",
    "    theme_bw() + viridis::scale_color_viridis() +\n",
    "    geom_path(data=data.frame(dfT), aes(x,y,color=NULL), size= 1, \n",
    "        arrow = arrow(type = \"open\", angle = 30, length = unit(0.1, \"inches\")))\n",
    "dev.off()\n",
    "saveRDS(trajAligned, \"result/Hematopoiesis-All/trajectory/Aligned-Trajectory.rds\")\n",
    "write.table(trajAligned$trajectory, 'result/Hematopoiesis-All/trajectory/trajectory_stats.txt', sep='\\t', quote=FALSE)\n",
    "\n",
    "#Significance of Trajectory Order\n",
    "clustMeans <- edgeR::cpm(groupSums(assay(se), colData(se)$Clusters, sparse = TRUE),log=TRUE,prior.count=3)\n",
    "trajStats <- trajectoryStats(clustMeans, trajectory, nSim = 500, nFeatures = 10000)\n",
    "rankMat <- trajStats$rankTMat\n",
    "rankDF <- lapply(seq_len(ncol(rankMat)), function(x){\n",
    "    data.frame(names=names(rankMat[,x]),ranks=rankMat[,x],t=x)\n",
    "}) %>% Reduce(\"rbind\",.)\n",
    "rankV <- lapply(seq_len(ncol(rankMat)), function(x){\n",
    "    data.frame(ranks=rankMat[rev(trajectory)[x+1],x],t=x)\n",
    "}) %>% Reduce(\"rbind\",.)\n",
    "\n",
    "pdf(\"result/Hematopoiesis-All/trajectory/Trajectory_Plot_Distance.pdf\", useDingbats = FALSE, width = 12, height = 12)\n",
    "ggplot(rankDF, aes(t,ranks,color=names)) + \n",
    "    geom_point(size = 8) + \n",
    "    geom_point(data = rankV, aes(color=NULL), color = \"black\", size = 2) + \n",
    "    geom_line(data = rankV, aes(color=NULL), color = \"black\", size = 1, \n",
    "        lty = \"dashed\", arrow = arrow(type = \"open\", length = unit(0.2, \"inches\"))) + \n",
    "    theme_bw() + \n",
    "    ylab(\"Trajectory Distance (Dist logCPM)\") + xlab(paste0(\"Trajectory 5000 Sim Pval = \",trajStats$pvalMean)) + \n",
    "    ggtitle(paste0(rev(trajectory),collapse=\" -> \"))\n",
    "dev.off()\n",
    "\n",
    "out <- list(trajStats = trajStats, rankDF = rankDF, rankV = rankV)\n",
    "saveRDS(out, \"result/Hematopoiesis-All/trajectory/Trajectory-Stats.rds\")\n"
   ]
  },
  {
   "cell_type": "code",
   "execution_count": 2,
   "metadata": {
    "Collapsed": "false"
   },
   "outputs": [],
   "source": [
    "trajAligned=readRDS(\"result/Hematopoiesis-All/trajectory/Aligned-Trajectory.rds\")"
   ]
  },
  {
   "cell_type": "code",
   "execution_count": 10,
   "metadata": {
    "Collapsed": "false"
   },
   "outputs": [],
   "source": [
    "hema=readRDS(\"data/Hematopoiesis-All/scATAC_Heme_All_SummarizedExperiment.final.rds\")"
   ]
  },
  {
   "cell_type": "code",
   "execution_count": 12,
   "metadata": {
    "Collapsed": "false"
   },
   "outputs": [
    {
     "data": {
      "text/plain": [
       "class: RangedSummarizedExperiment \n",
       "dim: 571400 63882 \n",
       "metadata(0):\n",
       "assays(1): counts\n",
       "rownames: NULL\n",
       "rowData names(3): name SYMBOL GC\n",
       "colnames(63882): SUHealthy_BM_B1_50 SUHealthy_BM_B1_51 ... pDC_76\n",
       "  pDC_80\n",
       "colData names(9): UMAP1 UMAP2 ... Internal_Name Group_Barcode"
      ]
     },
     "metadata": {},
     "output_type": "display_data"
    }
   ],
   "source": [
    "hema"
   ]
  },
  {
   "cell_type": "code",
   "execution_count": 7,
   "metadata": {
    "Collapsed": "false"
   },
   "outputs": [],
   "source": [
    "write.table(trajAligned$trajectory, 'result/Hematopoiesis-All/trajectory/trajectory_stats.txt', sep='\\t', quote=FALSE)"
   ]
  },
  {
   "cell_type": "markdown",
   "metadata": {
    "Collapsed": "false"
   },
   "source": [
    "## CD34"
   ]
  },
  {
   "cell_type": "code",
   "execution_count": 2,
   "metadata": {
    "Collapsed": "false"
   },
   "outputs": [
    {
     "name": "stdout",
     "output_type": "stream",
     "text": [
      "[1] \"Done\"\n"
     ]
    }
   ],
   "source": [
    "source('trajectory.R')"
   ]
  },
  {
   "cell_type": "code",
   "execution_count": null,
   "metadata": {
    "Collapsed": "false"
   },
   "outputs": [],
   "source": [
    "se <- readRDS(\"data/Hematopoiesis-CD34/scATAC_CD34_BM_SummarizedExperiment.final.rds\")"
   ]
  },
  {
   "cell_type": "code",
   "execution_count": 9,
   "metadata": {
    "Collapsed": "false"
   },
   "outputs": [
    {
     "data": {
      "text/plain": [
       "class: RangedSummarizedExperiment \n",
       "dim: 571389 18489 \n",
       "metadata(0):\n",
       "assays(1): counts\n",
       "rownames: NULL\n",
       "rowData names(3): name SYMBOL GC\n",
       "colnames(18489): SUHealthy_BM_B1_50 SUHealthy_BM_B1_52 ... pDC_76\n",
       "  pDC_80\n",
       "colData names(9): UMAP1 UMAP2 ... Internal_Name Group_Barcode"
      ]
     },
     "metadata": {},
     "output_type": "display_data"
    }
   ],
   "source": [
    "se"
   ]
  },
  {
   "cell_type": "code",
   "execution_count": 8,
   "metadata": {
    "Collapsed": "false"
   },
   "outputs": [],
   "source": [
    "write.table(colData(se),'data/Hematopoiesis-CD34/cells.txt', sep='\\t', quote=FALSE, row.names = FALSE)"
   ]
  },
  {
   "cell_type": "code",
   "execution_count": 11,
   "metadata": {
    "Collapsed": "false"
   },
   "outputs": [],
   "source": [
    "scale_umap=read.table('result/Hematopoiesis-CD34/scale_cluster/umap.txt', sep=' ')\n",
    "cluster=read.table('result/Hematopoiesis-CD34/scale_cluster/cluster_assignments.txt', sep='\\t', comment.char = \"\")"
   ]
  },
  {
   "cell_type": "code",
   "execution_count": 16,
   "metadata": {
    "Collapsed": "false"
   },
   "outputs": [],
   "source": [
    "colData(se)$UMAP1=scale_umap$V1\n",
    "colData(se)$UMAP2=scale_umap$V2\n",
    "colData(se)$scale_cluster=cluster$V2"
   ]
  },
  {
   "cell_type": "code",
   "execution_count": 30,
   "metadata": {
    "Collapsed": "false"
   },
   "outputs": [],
   "source": [
    "saveRDS(se, 'result/Hematopoiesis-CD34/scATAC_CD34_BM_SummarizedExperiment.scale.rds')"
   ]
  },
  {
   "cell_type": "code",
   "execution_count": 57,
   "metadata": {
    "Collapsed": "false"
   },
   "outputs": [],
   "source": [
    "trajectory=c(13,4,14,11,12,3)\n",
    "lineage='B'"
   ]
  },
  {
   "cell_type": "code",
   "execution_count": 55,
   "metadata": {
    "Collapsed": "false"
   },
   "outputs": [],
   "source": [
    "trajectory=c(13,4,0,5,10,15)\n",
    "lineage='pDC1'"
   ]
  },
  {
   "cell_type": "code",
   "execution_count": 53,
   "metadata": {
    "Collapsed": "false"
   },
   "outputs": [],
   "source": [
    "trajectory=c(13,4,0,5,7)\n",
    "lineage='pDC2'"
   ]
  },
  {
   "cell_type": "code",
   "execution_count": 61,
   "metadata": {
    "Collapsed": "false"
   },
   "outputs": [],
   "source": [
    "trajectory=c(13,4,9,6)\n",
    "lineage='Meg'"
   ]
  },
  {
   "cell_type": "code",
   "execution_count": 62,
   "metadata": {
    "Collapsed": "false"
   },
   "outputs": [
    {
     "data": {
      "text/html": [
       "<strong>png:</strong> 2"
      ],
      "text/latex": [
       "\\textbf{png:} 2"
      ],
      "text/markdown": [
       "**png:** 2"
      ],
      "text/plain": [
       "png \n",
       "  2 "
      ]
     },
     "metadata": {},
     "output_type": "display_data"
    }
   ],
   "source": [
    "#traj <- function(trajectory, lineage){\n",
    "    #Align single cells to Trajectory\n",
    "    df <- data.frame(row.names = colnames(se), x = colData(se)$UMAP1, y = colData(se)$UMAP2, Group = colData(se)$scale_cluster)\n",
    "    trajAligned <- alignTrajectory(df, trajectory)\n",
    "\n",
    "    df2 <- trajAligned[[1]]\n",
    "    dfT <- trajAligned[[2]]\n",
    "\n",
    "    png(paste0(\"result/Hematopoiesis-CD34/trajectory/\",lineage, \"_UMAP-PseudoTime.png\"))\n",
    "    #library(ggplot2)\n",
    "    ggplot(df2, aes(x,y,color=pseudotime)) + geom_point() +\n",
    "        theme_bw() + viridis::scale_color_viridis() +\n",
    "        geom_path(data=data.frame(dfT), aes(x,y,color=NULL), size= 1, \n",
    "            arrow = arrow(type = \"open\", angle = 30, length = unit(0.1, \"inches\")))\n",
    "    dev.off()\n",
    "    saveRDS(trajAligned, paste0(\"result/Hematopoiesis-CD34/trajectory/\",lineage,\"_Aligned-Trajectory.rds\"))\n",
    "    write.table(trajAligned$trajectory, paste0(\"result/Hematopoiesis-CD34/trajectory/\",lineage,\"_trajectory_stats.txt\"), sep='\\t', quote=FALSE)\n",
    "\n",
    "#}\n"
   ]
  },
  {
   "cell_type": "code",
   "execution_count": 39,
   "metadata": {
    "Collapsed": "false"
   },
   "outputs": [],
   "source": [
    "traj(c(13,4,14,11,12,3),'B2')"
   ]
  },
  {
   "cell_type": "code",
   "execution_count": 36,
   "metadata": {
    "Collapsed": "false"
   },
   "outputs": [],
   "source": [
    "traj(c(13,4,0,5,10,15), 'pDC1')"
   ]
  },
  {
   "cell_type": "code",
   "execution_count": 48,
   "metadata": {
    "Collapsed": "false"
   },
   "outputs": [],
   "source": [
    "traj(c(13,4,0,5,7), 'pDC2')"
   ]
  },
  {
   "cell_type": "markdown",
   "metadata": {
    "Collapsed": "true"
   },
   "source": [
    "# TME"
   ]
  },
  {
   "cell_type": "code",
   "execution_count": null,
   "metadata": {
    "Collapsed": "false"
   },
   "outputs": [],
   "source": []
  },
  {
   "cell_type": "code",
   "execution_count": 2,
   "metadata": {
    "Collapsed": "false"
   },
   "outputs": [],
   "source": [
    "ga <- readRDS('data/TME-All/Log2_Gene_Activity_TME_All_SummarizedExperiment.final.rds')"
   ]
  },
  {
   "cell_type": "code",
   "execution_count": 3,
   "metadata": {
    "Collapsed": "false"
   },
   "outputs": [
    {
     "data": {
      "text/plain": [
       "class: RangedSummarizedExperiment \n",
       "dim: 18993 37818 \n",
       "metadata(0):\n",
       "assays(1): logGA\n",
       "rownames(18993): A1BG A1BG-AS1 ... ZZEF1 ZZZ3\n",
       "rowData names(2): gene_id symbol\n",
       "colnames(37818): SU001_Tcell_Post_133 SU001_Tcell_Post_134 ...\n",
       "  SU005_Total_Post_596 SU005_Total_Post_597\n",
       "colData names(9): UMAP1 UMAP2 ... Internal_Name Group_Barcode"
      ]
     },
     "metadata": {},
     "output_type": "display_data"
    }
   ],
   "source": [
    "ga"
   ]
  },
  {
   "cell_type": "code",
   "execution_count": 6,
   "metadata": {
    "Collapsed": "false"
   },
   "outputs": [],
   "source": [
    "write.table(rownames(ga),'data/TME-All/cicero_ga_genes.txt',quote = FALSE, row.names=FALSE)\n",
    "write.table(colnames(ga),'data/TME-All/cicero_ga_cells.txt',quote = FALSE, row.names=FALSE)"
   ]
  },
  {
   "cell_type": "code",
   "execution_count": 17,
   "metadata": {
    "Collapsed": "false"
   },
   "outputs": [],
   "source": [
    "write.table(as.matrix(assays(ga)$logGA),file='data/TME-All/gene_activity_cicero_ga.txt')"
   ]
  },
  {
   "cell_type": "code",
   "execution_count": 31,
   "metadata": {
    "Collapsed": "false"
   },
   "outputs": [],
   "source": [
    "tf <- readRDS('data/TME-All/chromVAR_TME_All_SummarizedExperiment.final.rds')"
   ]
  },
  {
   "cell_type": "code",
   "execution_count": null,
   "metadata": {
    "Collapsed": "false"
   },
   "outputs": [],
   "source": [
    "t"
   ]
  },
  {
   "cell_type": "code",
   "execution_count": 19,
   "metadata": {
    "Collapsed": "false"
   },
   "outputs": [
    {
     "data": {
      "text/plain": [
       "class: chromVARDeviations \n",
       "dim: 1764 37818 \n",
       "metadata(3): Variability SummarizedExperiment motifMatches\n",
       "assays(2): deviations z\n",
       "rownames(1764): TFAP2B_1 TFAP2B_2 ... TBX22_1763 TBX22_1764\n",
       "rowData names(3): name fractionMatches fractionBackgroundOverlap\n",
       "colnames(37818): SU001_Tcell_Post_133 SU001_Tcell_Post_134 ...\n",
       "  SU005_Total_Post_596 SU005_Total_Post_597\n",
       "colData names(9): UMAP1 UMAP2 ... Internal_Name Group_Barcode"
      ]
     },
     "metadata": {},
     "output_type": "display_data"
    }
   ],
   "source": [
    "tf"
   ]
  },
  {
   "cell_type": "code",
   "execution_count": 20,
   "metadata": {
    "Collapsed": "false"
   },
   "outputs": [],
   "source": [
    "write.table(as.matrix(assays(tf)$deviations),file='data/TME-All/tf_deviations.txt')"
   ]
  },
  {
   "cell_type": "code",
   "execution_count": 21,
   "metadata": {
    "Collapsed": "false"
   },
   "outputs": [],
   "source": [
    "write.table(as.matrix(assays(tf)$z),file='data/TME-All/tf_var.txt')"
   ]
  },
  {
   "cell_type": "markdown",
   "metadata": {
    "Collapsed": "true"
   },
   "source": [
    "# CNV"
   ]
  },
  {
   "cell_type": "code",
   "execution_count": null,
   "metadata": {
    "Collapsed": "false"
   },
   "outputs": [],
   "source": [
    "suppressPackageStartupMessages(source('CNV.R'))"
   ]
  },
  {
   "cell_type": "code",
   "execution_count": 4,
   "metadata": {
    "Collapsed": "false"
   },
   "outputs": [],
   "source": [
    "blacklist <- import.bed(\"../data/hg19.blacklist.bed\")"
   ]
  },
  {
   "cell_type": "code",
   "execution_count": 5,
   "metadata": {
    "Collapsed": "false"
   },
   "outputs": [
    {
     "data": {
      "text/plain": [
       "GRanges object with 411 ranges and 2 metadata columns:\n",
       "        seqnames            ranges strand |                    name     score\n",
       "           <Rle>         <IRanges>  <Rle> |             <character> <numeric>\n",
       "    [1]     chr1     564450-570371      * | High_Mappability_island      1000\n",
       "    [2]     chr1     724137-727043      * |        Satellite_repeat      1000\n",
       "    [3]     chr1     825007-825115      * |                BSR/Beta      1000\n",
       "    [4]     chr1   2583335-2634374      * |  Low_mappability_island      1000\n",
       "    [5]     chr1   4363065-4363242      * |                (CATTC)n      1000\n",
       "    ...      ...               ...    ... .                     ...       ...\n",
       "  [407]     chrY 28555027-28555353      * |                    TAR1      1000\n",
       "  [408]     chrY 28784130-28819695      * |        Satellite_repeat      1000\n",
       "  [409]     chrY 58819368-58917648      * |                (CATTC)n      1000\n",
       "  [410]     chrY 58971914-58997782      * |                (CATTC)n      1000\n",
       "  [411]     chrY 59361268-59362785      * |                    TAR1      1000\n",
       "  -------\n",
       "  seqinfo: 25 sequences from an unspecified genome; no seqlengths"
      ]
     },
     "metadata": {},
     "output_type": "display_data"
    }
   ],
   "source": [
    "blacklist"
   ]
  },
  {
   "cell_type": "code",
   "execution_count": null,
   "metadata": {
    "Collapsed": "false"
   },
   "outputs": [],
   "source": [
    "windows <- makeWindows(genome = BSgenome.Hsapiens.UCSC.hg19, blacklist = blacklist)"
   ]
  },
  {
   "cell_type": "code",
   "execution_count": 8,
   "metadata": {
    "Collapsed": "false"
   },
   "outputs": [
    {
     "data": {
      "text/plain": [
       "GRanges object with 3296 ranges and 7 metadata columns:\n",
       "        seqnames            ranges strand |        wSeq    wStart      wEnd\n",
       "           <Rle>         <IRanges>  <Rle> | <character> <integer> <integer>\n",
       "     w1     chr1          1-564449      * |        chr1         1  10000000\n",
       "     w1     chr1     570372-724136      * |        chr1         1  10000000\n",
       "     w1     chr1     727044-825006      * |        chr1         1  10000000\n",
       "     w1     chr1    825116-2583334      * |        chr1         1  10000000\n",
       "     w2     chr1   2000001-2583334      * |        chr1   2000001  12000000\n",
       "    ...      ...               ...    ... .         ...       ...       ...\n",
       "  w1436     chrY 40000001-50000000      * |        chrY  40000001  50000000\n",
       "  w1437     chrY 42000001-52000000      * |        chrY  42000001  52000000\n",
       "  w1438     chrY 44000001-54000000      * |        chrY  44000001  54000000\n",
       "  w1439     chrY 46000001-56000000      * |        chrY  46000001  56000000\n",
       "  w1440     chrY 48000001-58000000      * |        chrY  48000001  58000000\n",
       "               name                GC                AT                 N\n",
       "        <character>         <numeric>         <numeric>         <numeric>\n",
       "     w1          w1 0.309152819829604 0.407384901027374 0.283462279143023\n",
       "     w1          w1 0.414431112411797 0.585568887588203                 0\n",
       "     w1          w1 0.444912875269234 0.555087124730766                 0\n",
       "     w1          w1 0.580253085650877 0.419746914349123                 0\n",
       "     w2          w2  0.58935018359979  0.41064981640021                 0\n",
       "    ...         ...               ...               ...               ...\n",
       "  w1436       w1436                 0                 0                 1\n",
       "  w1437       w1437                 0                 0                 1\n",
       "  w1438       w1438                 0                 0                 1\n",
       "  w1439       w1439                 0                 0                 1\n",
       "  w1440       w1440                 0                 0                 1\n",
       "  -------\n",
       "  seqinfo: 25 sequences from an unspecified genome; no seqlengths"
      ]
     },
     "metadata": {},
     "output_type": "display_data"
    }
   ],
   "source": [
    "windows"
   ]
  },
  {
   "cell_type": "code",
   "execution_count": 24,
   "metadata": {
    "Collapsed": "false"
   },
   "outputs": [],
   "source": [
    "write.table(windows, \"result/TME-All/windows.txt\", sep='\\t', quote=FALSE)"
   ]
  },
  {
   "cell_type": "code",
   "execution_count": 14,
   "metadata": {
    "Collapsed": "false"
   },
   "outputs": [],
   "source": [
    "saveRDS(windows, \"result/TME-All/windows.rds\")"
   ]
  },
  {
   "cell_type": "code",
   "execution_count": 10,
   "metadata": {
    "Collapsed": "false"
   },
   "outputs": [],
   "source": [
    "frag_bed=import.bed('data/TME-All/SU010_pre.fragment.tsv.gz')\n",
    "frag_bed$RG <- frag_bed$name"
   ]
  },
  {
   "cell_type": "code",
   "execution_count": null,
   "metadata": {
    "Collapsed": "false"
   },
   "outputs": [],
   "source": [
    "cnaObj <- scCNA(windows, frag_bed, neighbors = 100, LFC = 1.5, FDR = 0.1, force = TRUE, \n",
    "                remove = paste0(\"chr\",c(1,2,7,8,9,10,11,12,13,14,15,16,17,18,19,20,21,22,'X','Y','M')))"
   ]
  },
  {
   "cell_type": "code",
   "execution_count": null,
   "metadata": {
    "Collapsed": "false"
   },
   "outputs": [],
   "source": []
  },
  {
   "cell_type": "code",
   "execution_count": 17,
   "metadata": {
    "Collapsed": "false"
   },
   "outputs": [
    {
     "data": {
      "text/plain": [
       "class: RangedSummarizedExperiment \n",
       "dim: 274 260844 \n",
       "metadata(0):\n",
       "assays(8): CNA counts ... bdgMean bdgSd\n",
       "rownames: NULL\n",
       "rowData names(6): name effectiveLength ... AT N\n",
       "colnames(260844): GCAGCCAAGAACTAAC-1 CCACGTTCACACATGT-1 ...\n",
       "  AGTTTGGCACATGATC-1 AGCCTCTGTAGTCCAT-1\n",
       "colData names(0):"
      ]
     },
     "metadata": {},
     "output_type": "display_data"
    }
   ],
   "source": [
    "cnaObj"
   ]
  },
  {
   "cell_type": "code",
   "execution_count": 30,
   "metadata": {
    "Collapsed": "false"
   },
   "outputs": [
    {
     "data": {
      "text/html": [
       "<table>\n",
       "<caption>A matrix: 5 × 5 of type dbl</caption>\n",
       "<thead>\n",
       "\t<tr><th scope=col>GCAGCCAAGAACTAAC-1</th><th scope=col>CCACGTTCACACATGT-1</th><th scope=col>AACCTTTGTAAACCCT-1</th><th scope=col>ACAAACCGTTACGAAA-1</th><th scope=col>AGTGTACAGAAATGGG-1</th></tr>\n",
       "</thead>\n",
       "<tbody>\n",
       "\t<tr><td> 0.13209790</td><td>-0.3924358</td><td> 0.6274611</td><td>-0.2875253</td><td>2.074265</td></tr>\n",
       "\t<tr><td> 0.04589254</td><td>-0.4301763</td><td> 0.7042428</td><td>-0.6438970</td><td>2.252947</td></tr>\n",
       "\t<tr><td>-0.55693049</td><td>-0.4301763</td><td> 0.7042428</td><td>-0.6438970</td><td>2.338119</td></tr>\n",
       "\t<tr><td>-0.55693049</td><td>-0.4301763</td><td> 0.7042428</td><td>-0.5105120</td><td>3.206876</td></tr>\n",
       "\t<tr><td>-0.55693049</td><td>-0.5451190</td><td>-0.6021806</td><td>-0.5105120</td><td>3.025633</td></tr>\n",
       "</tbody>\n",
       "</table>\n"
      ],
      "text/latex": [
       "A matrix: 5 × 5 of type dbl\n",
       "\\begin{tabular}{lllll}\n",
       " GCAGCCAAGAACTAAC-1 & CCACGTTCACACATGT-1 & AACCTTTGTAAACCCT-1 & ACAAACCGTTACGAAA-1 & AGTGTACAGAAATGGG-1\\\\\n",
       "\\hline\n",
       "\t  0.13209790 & -0.3924358 &  0.6274611 & -0.2875253 & 2.074265\\\\\n",
       "\t  0.04589254 & -0.4301763 &  0.7042428 & -0.6438970 & 2.252947\\\\\n",
       "\t -0.55693049 & -0.4301763 &  0.7042428 & -0.6438970 & 2.338119\\\\\n",
       "\t -0.55693049 & -0.4301763 &  0.7042428 & -0.5105120 & 3.206876\\\\\n",
       "\t -0.55693049 & -0.5451190 & -0.6021806 & -0.5105120 & 3.025633\\\\\n",
       "\\end{tabular}\n"
      ],
      "text/markdown": [
       "\n",
       "A matrix: 5 × 5 of type dbl\n",
       "\n",
       "| GCAGCCAAGAACTAAC-1 | CCACGTTCACACATGT-1 | AACCTTTGTAAACCCT-1 | ACAAACCGTTACGAAA-1 | AGTGTACAGAAATGGG-1 |\n",
       "|---|---|---|---|---|\n",
       "|  0.13209790 | -0.3924358 |  0.6274611 | -0.2875253 | 2.074265 |\n",
       "|  0.04589254 | -0.4301763 |  0.7042428 | -0.6438970 | 2.252947 |\n",
       "| -0.55693049 | -0.4301763 |  0.7042428 | -0.6438970 | 2.338119 |\n",
       "| -0.55693049 | -0.4301763 |  0.7042428 | -0.5105120 | 3.206876 |\n",
       "| -0.55693049 | -0.5451190 | -0.6021806 | -0.5105120 | 3.025633 |\n",
       "\n"
      ],
      "text/plain": [
       "     GCAGCCAAGAACTAAC-1 CCACGTTCACACATGT-1 AACCTTTGTAAACCCT-1\n",
       "[1,]  0.13209790        -0.3924358          0.6274611        \n",
       "[2,]  0.04589254        -0.4301763          0.7042428        \n",
       "[3,] -0.55693049        -0.4301763          0.7042428        \n",
       "[4,] -0.55693049        -0.4301763          0.7042428        \n",
       "[5,] -0.55693049        -0.5451190         -0.6021806        \n",
       "     ACAAACCGTTACGAAA-1 AGTGTACAGAAATGGG-1\n",
       "[1,] -0.2875253         2.074265          \n",
       "[2,] -0.6438970         2.252947          \n",
       "[3,] -0.6438970         2.338119          \n",
       "[4,] -0.5105120         3.206876          \n",
       "[5,] -0.5105120         3.025633          "
      ]
     },
     "metadata": {},
     "output_type": "display_data"
    }
   ],
   "source": [
    "assays(cnaObj)$z[1:5,1:5]"
   ]
  },
  {
   "cell_type": "code",
   "execution_count": 18,
   "metadata": {
    "Collapsed": "false"
   },
   "outputs": [],
   "source": [
    "saveRDS(cnaObj, \"result/TME-All/SU010pre_cnv_3-6.rds\")"
   ]
  },
  {
   "cell_type": "code",
   "execution_count": 23,
   "metadata": {
    "Collapsed": "false"
   },
   "outputs": [
    {
     "data": {
      "text/plain": [
       "DataFrame with 274 rows and 6 columns\n",
       "           name effectiveLength percentEffectiveLength        GC        AT\n",
       "    <character>       <integer>              <numeric> <numeric> <numeric>\n",
       "1          w239        10000000                    100 0.4145635 0.5854365\n",
       "2          w240        10000000                    100 0.4326718 0.5673282\n",
       "3          w241        10000000                    100 0.4400118 0.5599882\n",
       "4          w242        10000000                    100 0.4443293 0.5556707\n",
       "5          w243        10000000                    100 0.4311841 0.5688159\n",
       "...         ...             ...                    ...       ...       ...\n",
       "270        w579        10000000                    100 0.3810121 0.6189879\n",
       "271        w580        10000000                    100 0.3814109 0.6185891\n",
       "272        w581         9999793               99.99793 0.3971409 0.6028384\n",
       "273        w582         9999793               99.99793  0.396502 0.6034773\n",
       "274        w583         9999793               99.99793 0.3992433  0.600736\n",
       "            N\n",
       "    <numeric>\n",
       "1           0\n",
       "2           0\n",
       "3           0\n",
       "4           0\n",
       "5           0\n",
       "...       ...\n",
       "270         0\n",
       "271         0\n",
       "272         0\n",
       "273         0\n",
       "274         0"
      ]
     },
     "metadata": {},
     "output_type": "display_data"
    }
   ],
   "source": [
    "rowData(cnaObj)"
   ]
  },
  {
   "cell_type": "code",
   "execution_count": 28,
   "metadata": {
    "Collapsed": "false"
   },
   "outputs": [],
   "source": [
    "write.table(assays(cnaObj)$z,'result//TME-All/CNA_z.txt',sep='\\t', quote=FALSE)\n",
    "write.table(rowData(cnaObj),'result//TME-All/CNA_window.txt',sep='\\t', quote=FALSE)\n",
    "write.table(assays(cnaObj)$CNA,'result//TME-All/CNA.txt',sep='\\t', quote=FALSE)"
   ]
  }
 ],
 "metadata": {
  "kernelspec": {
   "display_name": "R",
   "language": "R",
   "name": "ir"
  },
  "language_info": {
   "codemirror_mode": "r",
   "file_extension": ".r",
   "mimetype": "text/x-r-source",
   "name": "R",
   "pygments_lexer": "r",
   "version": "3.5.1"
  }
 },
 "nbformat": 4,
 "nbformat_minor": 4
}
