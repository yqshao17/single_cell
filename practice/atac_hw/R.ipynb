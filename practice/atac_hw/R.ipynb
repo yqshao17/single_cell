{
 "cells": [
  {
   "cell_type": "code",
   "execution_count": 1,
   "metadata": {},
   "outputs": [],
   "source": [
    "suppressPackageStartupMessages({\n",
    "    library(chromVAR)\n",
    "    library(motifmatchr)\n",
    "    library(SummarizedExperiment)\n",
    "    library(Matrix)\n",
    "    library('cicero')\n",
    "})"
   ]
  },
  {
   "cell_type": "code",
   "execution_count": 2,
   "metadata": {},
   "outputs": [],
   "source": [
    "library(BiocParallel)"
   ]
  },
  {
   "cell_type": "code",
   "execution_count": 3,
   "metadata": {},
   "outputs": [],
   "source": [
    "register(MulticoreParam(20))"
   ]
  },
  {
   "cell_type": "markdown",
   "metadata": {},
   "source": [
    "# chromVAR"
   ]
  },
  {
   "cell_type": "code",
   "execution_count": null,
   "metadata": {},
   "outputs": [],
   "source": [
    "## Rscript\n",
    "# Rscript chromVAR.R -d data/Hematopoiesis-All/data_filtered -p data/Hematopoiesis-All/Hematopoiesis-All_filtered_peak.bed -g hg19 -n hema_all_f -o result/Hematopoiesis-All/chromVAR_f"
   ]
  },
  {
   "cell_type": "code",
   "execution_count": 5,
   "metadata": {},
   "outputs": [
    {
     "name": "stderr",
     "output_type": "stream",
     "text": [
      "Loading required package: BSgenome\n",
      "Loading required package: Biostrings\n",
      "Loading required package: XVector\n",
      "\n",
      "Attaching package: 'Biostrings'\n",
      "\n",
      "The following object is masked from 'package:DelayedArray':\n",
      "\n",
      "    type\n",
      "\n",
      "The following object is masked from 'package:base':\n",
      "\n",
      "    strsplit\n",
      "\n",
      "Loading required package: rtracklayer\n"
     ]
    }
   ],
   "source": [
    "library(BSgenome.Hsapiens.UCSC.hg19)\n",
    "genome = BSgenome.Hsapiens.UCSC.hg19\n",
    "species = 'Homo sapiens'"
   ]
  },
  {
   "cell_type": "code",
   "execution_count": 7,
   "metadata": {},
   "outputs": [],
   "source": [
    "motifs <- getJasparMotifs(species=species)"
   ]
  },
  {
   "cell_type": "code",
   "execution_count": 6,
   "metadata": {},
   "outputs": [],
   "source": [
    "#data_file = 'data//Hematopoiesis-All/data'\n",
    "#peak_file = 'data//Hematopoiesis-All/Hematopoiesis-All_peak.bed'\n",
    "data_file = 'data//Hematopoiesis-All/data_filtered'\n",
    "peak_file = 'data//Hematopoiesis-All/Hematopoiesis-All_filtered_peak.bed'\n",
    "\n",
    "dir.create(outdir, recursive=TRUE, showWarnings=FALSE)\n",
    "\n",
    "#counts = read.table(data_file, row.names=1, header=T)\n",
    "counts = read_count(data_file)\n",
    "peaks = getPeaks(peak_file, sort_peaks=T) \n",
    "\n",
    "peak_index = as.data.frame(peaks)\n",
    "peak_index = paste0(peak_index$seqnames, ':' ,peak_index$start-1, '-', peak_index$end)\n",
    "\n",
    "index = row.names(counts)%in%peak_index\n",
    "counts = counts[index,]"
   ]
  },
  {
   "cell_type": "code",
   "execution_count": null,
   "metadata": {},
   "outputs": [],
   "source": [
    "dev = apply_chromVAR(counts, peaks, motifs, genome)"
   ]
  },
  {
   "cell_type": "code",
   "execution_count": 10,
   "metadata": {},
   "outputs": [],
   "source": [
    "outdir = 'result/Hematopoiesis-All/chromVAR_f'\n",
    "name = 'hema_all_f'\n",
    "write.table(deviationScores(dev), paste0(outdir, '/', name, '_dev.txt'), quote=F, sep='\\t')\n",
    "var = computeVariability(dev)\n",
    "write.table(var, paste0(outdir, '/',name, '_var.txt'), quote=F, sep='\\t')"
   ]
  },
  {
   "cell_type": "code",
   "execution_count": 12,
   "metadata": {},
   "outputs": [],
   "source": [
    "saveRDS(dev, \"result/Hematopoiesis-All/chromVAR_f/dev.rds\")"
   ]
  },
  {
   "cell_type": "code",
   "execution_count": null,
   "metadata": {},
   "outputs": [],
   "source": []
  },
  {
   "cell_type": "markdown",
   "metadata": {},
   "source": [
    "# Cicero"
   ]
  },
  {
   "cell_type": "code",
   "execution_count": 3,
   "metadata": {},
   "outputs": [],
   "source": [
    "suppressPackageStartupMessages({\n",
    "    library(BSgenome.Hsapiens.UCSC.hg19)\n",
    "    library(TxDb.Hsapiens.UCSC.hg19.knownGene)\n",
    "    library(org.Hs.eg.db)\n",
    "    library(cicero)\n",
    "    library(magrittr)\n",
    "    })\n",
    "\n",
    "txdb <- TxDb.Hsapiens.UCSC.hg19.knownGene\n",
    "orgdb <- org.Hs.eg.db\n",
    "bsgenome <- BSgenome.Hsapiens.UCSC.hg19"
   ]
  },
  {
   "cell_type": "code",
   "execution_count": 17,
   "metadata": {},
   "outputs": [],
   "source": [
    "# read in matrix data using the Matrix package\n",
    "indata <- Matrix::readMM(\"data/Hematopoiesis-All/data/count.mtx\") \n",
    "# binarize the matrix\n",
    "indata@x[indata@x > 0] <- 1\n",
    "\n",
    "# format cell info\n",
    "cellinfo <- read.table(\"data/Hematopoiesis-All/data/barcodes.txt\",comment.char = \"\")\n",
    "row.names(cellinfo) <- cellinfo$V1\n",
    "names(cellinfo) <- \"cells\"\n",
    "\n",
    "# format peak info\n",
    "peakinfo <- read.table(\"data/Hematopoiesis-All/Hematopoiesis-All_peak.bed\")\n",
    "names(peakinfo) <- c(\"chr\", \"bp1\", \"bp2\")\n",
    "peakinfo$site_name <- paste(peakinfo$chr, peakinfo$bp1, peakinfo$bp2, sep=\"_\")\n",
    "row.names(peakinfo) <- peakinfo$site_name\n",
    "\n",
    "row.names(indata) <- row.names(peakinfo)\n",
    "colnames(indata) <- row.names(cellinfo)\n",
    "\n",
    "# make CDS\n",
    "fd <- methods::new(\"AnnotatedDataFrame\", data = peakinfo)\n",
    "pd <- methods::new(\"AnnotatedDataFrame\", data = cellinfo)\n",
    "input_cds <-  suppressWarnings(newCellDataSet(indata,\n",
    "                            phenoData = pd,\n",
    "                            featureData = fd,\n",
    "                            expressionFamily=VGAM::binomialff(),\n",
    "                            lowerDetectionLimit=0))\n",
    "input_cds@expressionFamily@vfamily <- \"binomialff\"\n",
    "input_cds <- monocle::detectGenes(input_cds)\n",
    "\n",
    "#Ensure there are no peaks included with zero reads\n",
    "input_cds <- input_cds[Matrix::rowSums(exprs(input_cds)) != 0,] \n"
   ]
  },
  {
   "cell_type": "code",
   "execution_count": null,
   "metadata": {},
   "outputs": [],
   "source": [
    "cells = read.table('data/Hematopoiesis-All/GSE129785_scATAC-Hematopoiesis-All.cell_barcodes.txt', \n",
    "                   comment.char = \"\", head=1)\n",
    "dimred <- data.frame(row.names = cells$Group_Barcode, \n",
    "                     cells$UMAP1, \n",
    "                     cells$UMAP2)"
   ]
  },
  {
   "cell_type": "code",
   "execution_count": null,
   "metadata": {},
   "outputs": [],
   "source": [
    "set.seed(2017)\n",
    "input_cds <- detectGenes(input_cds)\n",
    "input_cds <- estimateSizeFactors(input_cds)"
   ]
  },
  {
   "cell_type": "code",
   "execution_count": 19,
   "metadata": {},
   "outputs": [],
   "source": [
    "saveRDS(input_cds, \"result/Hematopoiesis-All/hema_all_input.rds\")"
   ]
  },
  {
   "cell_type": "code",
   "execution_count": 2,
   "metadata": {},
   "outputs": [],
   "source": [
    "input_cds <- readRDS(\"result/Hematopoiesis-All/hema_all_input.rds\")"
   ]
  },
  {
   "cell_type": "code",
   "execution_count": null,
   "metadata": {},
   "outputs": [],
   "source": [
    "cicero_cds  <- make_cicero_cds(input_cds, k = 50, reduced_coordinates = dimred[colnames(input_cds),])"
   ]
  },
  {
   "cell_type": "code",
   "execution_count": 5,
   "metadata": {},
   "outputs": [
    {
     "data": {
      "text/plain": [
       "129578392 bytes"
      ]
     },
     "metadata": {},
     "output_type": "display_data"
    }
   ],
   "source": [
    "object.size(input_cds)"
   ]
  },
  {
   "cell_type": "code",
   "execution_count": 18,
   "metadata": {},
   "outputs": [
    {
     "data": {
      "text/plain": [
       "129578392 bytes"
      ]
     },
     "metadata": {},
     "output_type": "display_data"
    }
   ],
   "source": [
    "object.size(input_cds)"
   ]
  },
  {
   "cell_type": "code",
   "execution_count": 33,
   "metadata": {},
   "outputs": [
    {
     "name": "stderr",
     "output_type": "stream",
     "text": [
      "Overlap QC metrics:\n",
      "Cells per bin: 50\n",
      "Maximum shared cells bin-bin: 44\n",
      "Mean shared cells bin-bin: 0.0384606816936211\n",
      "Median shared cells bin-bin: 0\n"
     ]
    },
    {
     "ename": "ERROR",
     "evalue": "Error in asMethod(object): Cholmod error 'problem too large' at file ../Core/cholmod_dense.c, line 105\n",
     "output_type": "error",
     "traceback": [
      "Error in asMethod(object): Cholmod error 'problem too large' at file ../Core/cholmod_dense.c, line 105\nTraceback:\n",
      "1. make_cicero_cds(input_cds, k = 50, reduced_coordinates = dimred[colnames(input_cds), \n .     ])",
      "2. as.matrix(new_exprs)",
      "3. as.matrix.Matrix(new_exprs)",
      "4. as(x, \"matrix\")",
      "5. asMethod(object)"
     ]
    }
   ],
   "source": [
    "cicero_cds  <- make_cicero_cds(input_cds, k = 50, reduced_coordinates = dimred[colnames(input_cds),])"
   ]
  },
  {
   "cell_type": "code",
   "execution_count": 6,
   "metadata": {},
   "outputs": [],
   "source": [
    "input_cds_f=input_cds[Matrix::rowSums(exprs(input_cds)) >= 1000"
   ]
  },
  {
   "cell_type": "code",
   "execution_count": 7,
   "metadata": {},
   "outputs": [
    {
     "data": {
      "text/plain": [
       "38079080 bytes"
      ]
     },
     "metadata": {},
     "output_type": "display_data"
    }
   ],
   "source": [
    "object.size(input_cds_f)"
   ]
  },
  {
   "cell_type": "code",
   "execution_count": 8,
   "metadata": {},
   "outputs": [],
   "source": [
    "saveRDS(input_cds_f, \"result/Hematopoiesis-All/hema_all_input_f.rds\")"
   ]
  },
  {
   "cell_type": "code",
   "execution_count": 43,
   "metadata": {},
   "outputs": [],
   "source": [
    "set.seed(2017)\n",
    "input_cds_f <- detectGenes(input_cds_f)\n",
    "input_cds_f <- estimateSizeFactors(input_cds_f)"
   ]
  },
  {
   "cell_type": "code",
   "execution_count": 44,
   "metadata": {},
   "outputs": [
    {
     "name": "stderr",
     "output_type": "stream",
     "text": [
      "Overlap QC metrics:\n",
      "Cells per bin: 50\n",
      "Maximum shared cells bin-bin: 44\n",
      "Mean shared cells bin-bin: 0.0384606816936211\n",
      "Median shared cells bin-bin: 0\n"
     ]
    }
   ],
   "source": [
    "cicero_cds_f  <- make_cicero_cds(input_cds_f, k = 50, reduced_coordinates = dimred[colnames(input_cds_f),])"
   ]
  },
  {
   "cell_type": "code",
   "execution_count": 45,
   "metadata": {},
   "outputs": [],
   "source": [
    "saveRDS(cicero_cds_f, \"result/Hematopoiesis-All/hema_all_cicero_f.rds\")"
   ]
  },
  {
   "cell_type": "code",
   "execution_count": 3,
   "metadata": {},
   "outputs": [],
   "source": [
    "cicero_cds_f <- readRDS(\"result/Hematopoiesis-All/hema_all_cicero_f.rds\")"
   ]
  },
  {
   "cell_type": "code",
   "execution_count": 54,
   "metadata": {},
   "outputs": [],
   "source": [
    "# choose genome region\n",
    "bsgenome <- BSgenome.Hsapiens.UCSC.hg19\n",
    "chromSizes <- seqlengths(bsgenome)[paste0(\"chr\",c(1:22,\"X\"))]\n",
    "genome <- data.frame(names(chromSizes),chromSizes)\n",
    "rownames(genome) <- NULL"
   ]
  },
  {
   "cell_type": "code",
   "execution_count": null,
   "metadata": {},
   "outputs": [],
   "source": [
    "data(\"human.hg19.genome\")\n",
    "sample_genome <- subset(human.hg19.genome, V1 == \"chr1\")\n",
    "conns <- run_cicero(cicero_cds_f, sample_genome) # Takes a few minutes to run"
   ]
  },
  {
   "cell_type": "code",
   "execution_count": 11,
   "metadata": {},
   "outputs": [],
   "source": [
    "write.table(conns, 'result//Hematopoiesis-All/hema_all_f_conns.txt',quote = FALSE, sep='\\t', row.names = FALSE)"
   ]
  },
  {
   "cell_type": "code",
   "execution_count": 4,
   "metadata": {},
   "outputs": [],
   "source": [
    "conns = read.table( 'result//Hematopoiesis-All/hema_all_f_conns.txt', sep='\\t', header = 1)\n",
    "input_cds_f = readRDS('result//Hematopoiesis-All/hema_all_input_f.rds')"
   ]
  },
  {
   "cell_type": "code",
   "execution_count": 8,
   "metadata": {},
   "outputs": [
    {
     "name": "stderr",
     "output_type": "stream",
     "text": [
      "Annotating Cell Data Set...\n"
     ]
    }
   ],
   "source": [
    "tssWindow <- 2500\n",
    "flank <- 250*10^3\n",
    "corCutOff <- 0.35\n",
    "\n",
    "#Annotate CDS\n",
    "message(\"Annotating Cell Data Set...\")\n",
    "genes <- getTxDbGenes(txdb=txdb,orgdb=orgdb)\n",
    "names(genes) <- genes$symbol\n",
    "genes <- resize(genes, 1, \"start\") %>% resize(tssWindow * 2 + 1, \"center\")\n",
    "geneDF <- data.frame(chromosome=seqnames(genes),start=start(genes),end=end(genes), gene=genes$symbol)\n",
    "obj <- annotate_cds_by_site(input_cds_f, geneDF)\n",
    "\n",
    "#Prepare for Co-Accessibility\n",
    "nSites <- Matrix::colSums(assayData(obj)$exprs)\n",
    "names(nSites) <- row.names(pData(obj))\n"
   ]
  },
  {
   "cell_type": "code",
   "execution_count": 9,
   "metadata": {},
   "outputs": [
    {
     "name": "stderr",
     "output_type": "stream",
     "text": [
      "Calculating normalized gene activities...\n"
     ]
    }
   ],
   "source": [
    "#Cicero with Correlations\n",
    "message(\"Calculating normalized gene activities...\")\n",
    "ciceroGA <- normalize_gene_activities(build_gene_activity_matrix(obj, conns, coaccess_cutoff = corCutOff), nSites)"
   ]
  },
  {
   "cell_type": "code",
   "execution_count": null,
   "metadata": {},
   "outputs": [],
   "source": [
    "library('Matrix')\n",
    "writeMM(ciceroGA,file='result//Hematopoiesis-All/hema_all_f_ciceroGA.txt')"
   ]
  },
  {
   "cell_type": "code",
   "execution_count": null,
   "metadata": {},
   "outputs": [],
   "source": [
    "write.table(rownames(ciceroGA),'result//Hematopoiesis-All/hema_all_f_ciceroGA_genes.txt',\n",
    "           quote = FALSE)\n",
    "write.table(colnames(ciceroGA),'result//Hematopoiesis-All/hema_all_f_ciceroGA_barcodes.txt',\n",
    "           quote = FALSE)"
   ]
  },
  {
   "cell_type": "code",
   "execution_count": null,
   "metadata": {},
   "outputs": [],
   "source": [
    "write.table(ciceroGA, 'result//Hematopoiesis-All/hema_all_f_ciceroGA.txt',\n",
    "            quote = FALSE, sep='\\t', row.names = FALSE)"
   ]
  },
  {
   "cell_type": "code",
   "execution_count": 11,
   "metadata": {},
   "outputs": [
    {
     "data": {
      "text/html": [
       "<ol class=list-inline>\n",
       "\t<li>13541</li>\n",
       "\t<li>63882</li>\n",
       "</ol>\n"
      ],
      "text/latex": [
       "\\begin{enumerate*}\n",
       "\\item 13541\n",
       "\\item 63882\n",
       "\\end{enumerate*}\n"
      ],
      "text/markdown": [
       "1. 13541\n",
       "2. 63882\n",
       "\n",
       "\n"
      ],
      "text/plain": [
       "[1] 13541 63882"
      ]
     },
     "metadata": {},
     "output_type": "display_data"
    }
   ],
   "source": [
    "dim(ciceroGA)"
   ]
  },
  {
   "cell_type": "code",
   "execution_count": null,
   "metadata": {},
   "outputs": [],
   "source": [
    "head(ciceroGA)"
   ]
  },
  {
   "cell_type": "code",
   "execution_count": 20,
   "metadata": {},
   "outputs": [
    {
     "name": "stderr",
     "output_type": "stream",
     "text": [
      "Loading required package: DelayedArray\n",
      "Loading required package: matrixStats\n",
      "\n",
      "Attaching package: 'matrixStats'\n",
      "\n",
      "The following objects are masked from 'package:Biobase':\n",
      "\n",
      "    anyMissing, rowMedians\n",
      "\n",
      "Loading required package: BiocParallel\n",
      "\n",
      "Attaching package: 'DelayedArray'\n",
      "\n",
      "The following objects are masked from 'package:matrixStats':\n",
      "\n",
      "    colMaxs, colMins, colRanges, rowMaxs, rowMins, rowRanges\n",
      "\n",
      "The following object is masked from 'package:Biostrings':\n",
      "\n",
      "    type\n",
      "\n",
      "The following objects are masked from 'package:base':\n",
      "\n",
      "    aperm, apply\n",
      "\n"
     ]
    },
    {
     "ename": "ERROR",
     "evalue": "Error in is(colData, \"DataFrame\"): object 'mdata' not found\n",
     "output_type": "error",
     "traceback": [
      "Error in is(colData, \"DataFrame\"): object 'mdata' not found\nTraceback:\n",
      "1. SummarizedExperiment(assays = SimpleList(gA = ciceroGA), rowRanges = genes[rownames(ciceroGA), \n .     ], colData = mdata)",
      "2. SummarizedExperiment(assays = SimpleList(gA = ciceroGA), rowRanges = genes[rownames(ciceroGA), \n .     ], colData = mdata)",
      "3. .local(assays, ...)",
      "4. is(colData, \"DataFrame\")"
     ]
    }
   ],
   "source": [
    "library(SummarizedExperiment)\n",
    "seCicero <- SummarizedExperiment(\n",
    "\tassays = SimpleList(gA = ciceroGA),\n",
    "\trowRanges = genes[rownames(ciceroGA),],\n",
    "\tcolData = mdata\n",
    ")\n",
    "\n",
    "seCiceroLog <- SummarizedExperiment(\n",
    "\tassays = SimpleList(logGA = log2(10^6 * ciceroGA + 1)),\n",
    "\trowRanges = genes[rownames(ciceroGA),],\n",
    "\tcolData = mdata\n",
    ")\n",
    "\n",
    "#Save Output\n",
    "#saveRDS(connections, \"results/Peaks-Co-Accessibility.rds\")\n",
    "#saveRDS(seCicero, \"results/Cicero-Gene-Activity.rds\")\n",
    "#saveRDS(seCiceroLog, \"results/Cicero-Log2-Gene-Activity.rds\")"
   ]
  },
  {
   "cell_type": "code",
   "execution_count": 7,
   "metadata": {},
   "outputs": [],
   "source": [
    "getTxDbGenes <- function(txdb = NULL, orgdb = NULL, gr = NULL, ignore.strand = TRUE){\n",
    "    \n",
    "    if (is.null(genome)) {\n",
    "        if (is.null(txdb) | is.null(orgdb)) {\n",
    "            stop(\"If no provided genome then you need txdb and orgdb!\")\n",
    "        }\n",
    "    }\n",
    "        \n",
    "    if (is.null(gr)) {\n",
    "        genes <- GenomicFeatures::genes(txdb)\n",
    "    }else {\n",
    "        genes <- suppressWarnings(subsetByOverlaps(GenomicFeatures::genes(txdb), gr, ignore.strand = ignore.strand))\n",
    "    }\n",
    "    \n",
    "    if (length(genes) > 1) {\n",
    "        mcols(genes)$symbol <- suppressMessages(mapIds(orgdb, \n",
    "            keys = mcols(genes)$gene_id, column = \"SYMBOL\", keytype = \"ENTREZID\", \n",
    "            multiVals = \"first\"))\n",
    "        genes <- sort(sortSeqlevels(genes), ignore.strand = TRUE)\n",
    "        names(genes) <- NULL\n",
    "        out <- genes\n",
    "    }else {\n",
    "        out <- GRanges(seqnames(gr), ranges = IRanges(0, 0), gene_id = 0, symbol = \"none\")[-1]\n",
    "    }\n",
    "\n",
    "    return(out)\n",
    "\n",
    "}"
   ]
  }
 ],
 "metadata": {
  "kernelspec": {
   "display_name": "R",
   "language": "R",
   "name": "ir"
  },
  "language_info": {
   "codemirror_mode": "r",
   "file_extension": ".r",
   "mimetype": "text/x-r-source",
   "name": "R",
   "pygments_lexer": "r",
   "version": "3.5.1"
  }
 },
 "nbformat": 4,
 "nbformat_minor": 2
}
